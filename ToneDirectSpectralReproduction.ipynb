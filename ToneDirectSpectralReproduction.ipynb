{
 "cells": [
  {
   "cell_type": "code",
   "execution_count": 5,
   "id": "documented-temperature",
   "metadata": {},
   "outputs": [],
   "source": [
    "import numpy as np\n",
    "from cztRoutines import *\n",
    "import matplotlib.pyplot as plt"
   ]
  },
  {
   "cell_type": "markdown",
   "id": "appreciated-generator",
   "metadata": {},
   "source": [
    "# What is the proper way of reconstructing the complex values from a tone's spectrum?\n",
    "\n",
    "Here we outline the likely overlooked nuances of defining a closed-form equation for the spectrum of a given tone. Given a complex tone with frequency $f_0$ and amplitude $A$, with constant offset phase $\\phi_0$ - that is, the tone typically given by\n",
    "\n",
    "$$ x(t) = \\exp(i 2 \\pi f_0 t) \\exp(i \\phi)$$\n",
    "\n",
    "what is the value of the spectrum formed by the _sampled_ tone at some point corresponding to $f$? If the first answer that comes to mind is that of the well known $sinc$ function, then one would only be half right. Here's the issue:"
   ]
  },
  {
   "cell_type": "code",
   "execution_count": 2,
   "id": "fewer-spending",
   "metadata": {},
   "outputs": [],
   "source": [
    "fs = 100.0\n",
    "N = 100\n",
    "f0 = 25.0\n",
    "phi0 = 0.0\n",
    "x = np.exp(1j*2*np.pi*f0*np.arange(N)/fs) * np.exp(1j*phi0)\n",
    "\n",
    "fstep = 0.1\n",
    "frange = 10.0\n",
    "freqs = np.arange(f0-frange,f0+frange,fstep)"
   ]
  },
  {
   "cell_type": "code",
   "execution_count": 6,
   "id": "crude-beauty",
   "metadata": {},
   "outputs": [
    {
     "data": {
      "text/plain": [
       "[<matplotlib.lines.Line2D at 0x1ed32bec730>]"
      ]
     },
     "execution_count": 6,
     "metadata": {},
     "output_type": "execute_result"
    },
    {
     "data": {
      "image/png": "[encoded data removed]",
      "text/plain": [
       "<Figure size 432x288 with 1 Axes>"
      ]
     },
     "metadata": {
      "needs_background": "light"
     },
     "output_type": "display_data"
    }
   ],
   "source": [
    "spectrum = dft(x,freqs,fs)\n",
    "plt.plot(freqs, np.abs(spectrum))"
   ]
  },
  {
   "cell_type": "markdown",
   "id": "dated-shelter",
   "metadata": {},
   "source": [
    "All good so far. The plot obeys our well known $sinc$ function. As a primer, this is usually derived by considering how the windowing caused by taking a finite number of samples is equivalent to multiplication by a $rect$ function in time. Then by invoking convolution rules, we can show that this is equivalent to convolving with a $sinc$ (which is a Fourier transform of a $rect$) in frequency.\n",
    "\n",
    "$$\\mathcal{F}\\{x(t) rect(t)\\} = \\mathcal{F}\\{x(t)\\} * \\mathcal{F}\\{rect(t)\\}$$\n",
    "\n",
    "Fourier transform of the tone $x(t)$ is a $\\delta(f-f_0)$ function, so convolution over it produces the $sinc$ shape centred at $f_0$ as expected. The $sinc$ is _very typically_ derived like so:\n",
    "\n",
    "$$\n",
    "\\begin{aligned}\n",
    "\\mathcal{F}\\{rect(t)\\} &= \\int_{-\\tau/2}^{\\tau/2} \\exp{-i 2 \\pi f t} dt\\\\\n",
    "&= \\tau \\frac{\\sin(\\pi f \\tau)}{\\pi f \\tau} \\\\\n",
    "&= \\tau sinc(f \\tau)\n",
    "\\end{aligned}\n",
    "$$\n",
    "\n",
    "In other words, the $sinc$ envelope's max amplitude is given by the window length; in discrete terms, this equates to the number of samples, so we can write?\n",
    "\n",
    "$$ N sinc(f N) $$"
   ]
  },
  {
   "cell_type": "code",
   "execution_count": null,
   "id": "pediatric-purple",
   "metadata": {},
   "outputs": [],
   "source": []
  },
  {
   "cell_type": "code",
   "execution_count": null,
   "id": "embedded-subcommittee",
   "metadata": {},
   "outputs": [],
   "source": []
  }
 ],
 "metadata": {
  "kernelspec": {
   "display_name": "Python 3",
   "language": "python",
   "name": "python3"
  },
  "language_info": {
   "codemirror_mode": {
    "name": "ipython",
    "version": 3
   },
   "file_extension": ".py",
   "mimetype": "text/x-python",
   "name": "python",
   "nbconvert_exporter": "python",
   "pygments_lexer": "ipython3",
   "version": "3.9.2"
  }
 },
 "nbformat": 4,
 "nbformat_minor": 5
}
